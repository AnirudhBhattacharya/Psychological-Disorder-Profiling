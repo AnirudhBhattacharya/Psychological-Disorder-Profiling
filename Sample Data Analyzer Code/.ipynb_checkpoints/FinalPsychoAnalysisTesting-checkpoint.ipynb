{
 "cells": [
  {
   "cell_type": "code",
   "execution_count": 3,
   "metadata": {},
   "outputs": [],
   "source": [
    "import pandas as pd\n",
    "import pickle as pkl\n",
    "from collections import Counter\n",
    "import matplotlib.pyplot as plt\n",
    "from afinn import Afinn\n",
    "import numpy as np"
   ]
  },
  {
   "cell_type": "code",
   "execution_count": 4,
   "metadata": {},
   "outputs": [],
   "source": [
    "Anxiety = open('AnxietyData_clean.txt', 'r')\n",
    "Depression=open('DepressionData_clean.txt','r')\n",
    "OCD=open('OCDData_clean.txt','r')\n",
    "user_tweetstore1 = []\n",
    "user_tweetstore2 = []\n",
    "user_tweetstore3 = []\n",
    "user_tweetstore4 = []\n",
    "word_Anxiety=[]\n",
    "word_Depression=[]\n",
    "word_OCD=[]\n",
    "user_tweetstorecombo = []\n",
    "afinn = Afinn()\n",
    "n=2000\n",
    "tweet=[]"
   ]
  },
  {
   "cell_type": "code",
   "execution_count": 5,
   "metadata": {},
   "outputs": [],
   "source": [
    "for line_ocd in OCD:\n",
    "    newline_ocd=line_ocd.split()\n",
    "    if len(newline_ocd)!=0 and newline_ocd[0]=='ocd':\n",
    "        word_OCD+=newline_ocd\n",
    "        user_tweetstore1.append((' '.join(newline_ocd[1:]),afinn.score(' '.join(newline_ocd[1:])),'ocd'))\n",
    "user_tweetstorecombo+=user_tweetstore1[:n] \n"
   ]
  },
  {
   "cell_type": "code",
   "execution_count": 6,
   "metadata": {},
   "outputs": [],
   "source": [
    "for line_Depression in Depression:\n",
    "    newline_Depression=line_Depression.split()\n",
    "    if len(newline_Depression)!=0 and newline_Depression[0]=='depression':  \n",
    "        word_Depression+=newline_Depression\n",
    "        user_tweetstore2.append((' '.join(newline_Depression[1:]),afinn.score(' '.join(newline_Depression[1:])),'depression'))\n",
    "user_tweetstorecombo+=user_tweetstore2[:n] "
   ]
  },
  {
   "cell_type": "code",
   "execution_count": 7,
   "metadata": {},
   "outputs": [],
   "source": [
    "for line_Anxiety in Anxiety:\n",
    "    newline_Anxiety=line_Anxiety.split()\n",
    "    #print(newline_Anxiety)\n",
    "    if len(newline_Anxiety)!=0 and newline_Anxiety[0]=='anxiety':\n",
    "        word_Anxiety+=newline_Anxiety\n",
    "        user_tweetstore3.append((' '.join(newline_Anxiety[1:]),afinn.score(' '.join(newline_Anxiety[1:])),'anxiety'))\n",
    "user_tweetstorecombo+=user_tweetstore3[:n] "
   ]
  },
  {
   "cell_type": "code",
   "execution_count": 14,
   "metadata": {},
   "outputs": [
    {
     "data": {
      "text/html": [
       "<div>\n",
       "<style scoped>\n",
       "    .dataframe tbody tr th:only-of-type {\n",
       "        vertical-align: middle;\n",
       "    }\n",
       "\n",
       "    .dataframe tbody tr th {\n",
       "        vertical-align: top;\n",
       "    }\n",
       "\n",
       "    .dataframe thead th {\n",
       "        text-align: right;\n",
       "    }\n",
       "</style>\n",
       "<table border=\"1\" class=\"dataframe\">\n",
       "  <thead>\n",
       "    <tr style=\"text-align: right;\">\n",
       "      <th></th>\n",
       "      <th>Disorder Tweets</th>\n",
       "      <th>Affin_Score</th>\n",
       "      <th>Disorder Category</th>\n",
       "    </tr>\n",
       "  </thead>\n",
       "  <tbody>\n",
       "    <tr>\n",
       "      <th>0</th>\n",
       "      <td>Professional Psychiatric Patients Wanted - App...</td>\n",
       "      <td>-2.0</td>\n",
       "      <td>ocd</td>\n",
       "    </tr>\n",
       "    <tr>\n",
       "      <th>1</th>\n",
       "      <td>END MENTAL ILLNESS STIGMA ! #Peanuts #Stigma #...</td>\n",
       "      <td>-2.0</td>\n",
       "      <td>ocd</td>\n",
       "    </tr>\n",
       "    <tr>\n",
       "      <th>2</th>\n",
       "      <td>Getting better should help you do what you wan...</td>\n",
       "      <td>5.0</td>\n",
       "      <td>ocd</td>\n",
       "    </tr>\n",
       "    <tr>\n",
       "      <th>3</th>\n",
       "      <td>if all the people that have #mentalillness wer...</td>\n",
       "      <td>-6.0</td>\n",
       "      <td>ocd</td>\n",
       "    </tr>\n",
       "    <tr>\n",
       "      <th>4</th>\n",
       "      <td>Wish we had #mhGAP trained GPs treating #menta...</td>\n",
       "      <td>0.0</td>\n",
       "      <td>ocd</td>\n",
       "    </tr>\n",
       "    <tr>\n",
       "      <th>5</th>\n",
       "      <td>Oliver the OCD transporter driver has been at ...</td>\n",
       "      <td>0.0</td>\n",
       "      <td>ocd</td>\n",
       "    </tr>\n",
       "    <tr>\n",
       "      <th>6</th>\n",
       "      <td>In people with disorder, actions are at odds w...</td>\n",
       "      <td>-2.0</td>\n",
       "      <td>ocd</td>\n",
       "    </tr>\n",
       "    <tr>\n",
       "      <th>7</th>\n",
       "      <td>checking my alarms five times to make sure the...</td>\n",
       "      <td>0.0</td>\n",
       "      <td>ocd</td>\n",
       "    </tr>\n",
       "    <tr>\n",
       "      <th>8</th>\n",
       "      <td>The most beautiful people we have known are . ...</td>\n",
       "      <td>0.0</td>\n",
       "      <td>ocd</td>\n",
       "    </tr>\n",
       "    <tr>\n",
       "      <th>9</th>\n",
       "      <td>Ever wonder how to help employees or coworkers...</td>\n",
       "      <td>-2.0</td>\n",
       "      <td>ocd</td>\n",
       "    </tr>\n",
       "    <tr>\n",
       "      <th>10</th>\n",
       "      <td>shout out to everyone who thinks their rituals...</td>\n",
       "      <td>-1.0</td>\n",
       "      <td>ocd</td>\n",
       "    </tr>\n",
       "    <tr>\n",
       "      <th>11</th>\n",
       "      <td>Nkasi will be at #croydon central library toda...</td>\n",
       "      <td>0.0</td>\n",
       "      <td>ocd</td>\n",
       "    </tr>\n",
       "    <tr>\n",
       "      <th>12</th>\n",
       "      <td>Join us at Dulwich Library today from 4pm-6pm ...</td>\n",
       "      <td>6.0</td>\n",
       "      <td>ocd</td>\n",
       "    </tr>\n",
       "    <tr>\n",
       "      <th>13</th>\n",
       "      <td>\"SURVIVING MENTAL ILLNESS THROUGH HUMOR\" Great...</td>\n",
       "      <td>11.0</td>\n",
       "      <td>ocd</td>\n",
       "    </tr>\n",
       "    <tr>\n",
       "      <th>14</th>\n",
       "      <td>\"I never dreamed I had based on what I knew fr...</td>\n",
       "      <td>3.0</td>\n",
       "      <td>ocd</td>\n",
       "    </tr>\n",
       "    <tr>\n",
       "      <th>15</th>\n",
       "      <td>It is a myth that OCD is an adult disorder. Re...</td>\n",
       "      <td>-5.0</td>\n",
       "      <td>ocd</td>\n",
       "    </tr>\n",
       "    <tr>\n",
       "      <th>16</th>\n",
       "      <td>#anxiety #depression #agoraphobia #PTSD #disor...</td>\n",
       "      <td>-4.0</td>\n",
       "      <td>ocd</td>\n",
       "    </tr>\n",
       "    <tr>\n",
       "      <th>17</th>\n",
       "      <td>I recall our theatre days and your patients we...</td>\n",
       "      <td>0.0</td>\n",
       "      <td>ocd</td>\n",
       "    </tr>\n",
       "    <tr>\n",
       "      <th>18</th>\n",
       "      <td>Any #anxiety #depression sufferers out there h...</td>\n",
       "      <td>1.0</td>\n",
       "      <td>ocd</td>\n",
       "    </tr>\n",
       "    <tr>\n",
       "      <th>19</th>\n",
       "      <td>We did not choose #depression , #bipolar , #sc...</td>\n",
       "      <td>-2.0</td>\n",
       "      <td>ocd</td>\n",
       "    </tr>\n",
       "    <tr>\n",
       "      <th>20</th>\n",
       "      <td>Emotions are haywire. I don't know which emoti...</td>\n",
       "      <td>1.0</td>\n",
       "      <td>ocd</td>\n",
       "    </tr>\n",
       "    <tr>\n",
       "      <th>21</th>\n",
       "      <td>do we want our children to thrive #mindfulness...</td>\n",
       "      <td>1.0</td>\n",
       "      <td>ocd</td>\n",
       "    </tr>\n",
       "    <tr>\n",
       "      <th>22</th>\n",
       "      <td>such a pleasure to write this for @memynmh #ed...</td>\n",
       "      <td>3.0</td>\n",
       "      <td>ocd</td>\n",
       "    </tr>\n",
       "    <tr>\n",
       "      <th>23</th>\n",
       "      <td>What it's like to survive #postpartum via @Huf...</td>\n",
       "      <td>2.0</td>\n",
       "      <td>ocd</td>\n",
       "    </tr>\n",
       "    <tr>\n",
       "      <th>24</th>\n",
       "      <td>Okay seriously! New rule for my house: if over...</td>\n",
       "      <td>0.0</td>\n",
       "      <td>ocd</td>\n",
       "    </tr>\n",
       "    <tr>\n",
       "      <th>25</th>\n",
       "      <td>Alright, that's enough tweets. I bet it must b...</td>\n",
       "      <td>-2.0</td>\n",
       "      <td>ocd</td>\n",
       "    </tr>\n",
       "    <tr>\n",
       "      <th>26</th>\n",
       "      <td>really cool initiative..... 50% of profits go ...</td>\n",
       "      <td>5.0</td>\n",
       "      <td>ocd</td>\n",
       "    </tr>\n",
       "    <tr>\n",
       "      <th>27</th>\n",
       "      <td>Here's episode 2 in our podcast series explori...</td>\n",
       "      <td>0.0</td>\n",
       "      <td>ocd</td>\n",
       "    </tr>\n",
       "    <tr>\n",
       "      <th>28</th>\n",
       "      <td>Yes..too often PND has been a 'catch all' when...</td>\n",
       "      <td>3.0</td>\n",
       "      <td>ocd</td>\n",
       "    </tr>\n",
       "    <tr>\n",
       "      <th>29</th>\n",
       "      <td>Raking the lawn is hard enough with OCD, but w...</td>\n",
       "      <td>0.0</td>\n",
       "      <td>ocd</td>\n",
       "    </tr>\n",
       "    <tr>\n",
       "      <th>...</th>\n",
       "      <td>...</td>\n",
       "      <td>...</td>\n",
       "      <td>...</td>\n",
       "    </tr>\n",
       "    <tr>\n",
       "      <th>5970</th>\n",
       "      <td>My anxiety to my depression</td>\n",
       "      <td>-2.0</td>\n",
       "      <td>anxiety</td>\n",
       "    </tr>\n",
       "    <tr>\n",
       "      <th>5971</th>\n",
       "      <td>How I get through my every day anxiety 😂</td>\n",
       "      <td>-2.0</td>\n",
       "      <td>anxiety</td>\n",
       "    </tr>\n",
       "    <tr>\n",
       "      <th>5972</th>\n",
       "      <td>Me: *out having a great time with friends* Anx...</td>\n",
       "      <td>-4.0</td>\n",
       "      <td>anxiety</td>\n",
       "    </tr>\n",
       "    <tr>\n",
       "      <th>5973</th>\n",
       "      <td>Almost 2018 and I’m still letting my anxiety w...</td>\n",
       "      <td>-7.0</td>\n",
       "      <td>anxiety</td>\n",
       "    </tr>\n",
       "    <tr>\n",
       "      <th>5974</th>\n",
       "      <td>guilt is probably the thing I tussle and strug...</td>\n",
       "      <td>-8.0</td>\n",
       "      <td>anxiety</td>\n",
       "    </tr>\n",
       "    <tr>\n",
       "      <th>5975</th>\n",
       "      <td>My anxiety is so bad that I have to drink deca...</td>\n",
       "      <td>-5.0</td>\n",
       "      <td>anxiety</td>\n",
       "    </tr>\n",
       "    <tr>\n",
       "      <th>5976</th>\n",
       "      <td>Maybe if I fall in love with my anxiety it wil...</td>\n",
       "      <td>0.0</td>\n",
       "      <td>anxiety</td>\n",
       "    </tr>\n",
       "    <tr>\n",
       "      <th>5977</th>\n",
       "      <td>my neck my back my anxiety attack</td>\n",
       "      <td>-3.0</td>\n",
       "      <td>anxiety</td>\n",
       "    </tr>\n",
       "    <tr>\n",
       "      <th>5978</th>\n",
       "      <td>I hate my anxiety. I hate what’s going on insi...</td>\n",
       "      <td>-8.0</td>\n",
       "      <td>anxiety</td>\n",
       "    </tr>\n",
       "    <tr>\n",
       "      <th>5979</th>\n",
       "      <td>My family gives me so much fucking anxiety</td>\n",
       "      <td>-6.0</td>\n",
       "      <td>anxiety</td>\n",
       "    </tr>\n",
       "    <tr>\n",
       "      <th>5980</th>\n",
       "      <td>my anxiety is silent. you wouldn’t even notice...</td>\n",
       "      <td>-4.0</td>\n",
       "      <td>anxiety</td>\n",
       "    </tr>\n",
       "    <tr>\n",
       "      <th>5981</th>\n",
       "      <td>and ik it sounds like me being stupid but this...</td>\n",
       "      <td>-2.0</td>\n",
       "      <td>anxiety</td>\n",
       "    </tr>\n",
       "    <tr>\n",
       "      <th>5982</th>\n",
       "      <td>I'm having a mild anxiety attack because it's ...</td>\n",
       "      <td>-3.0</td>\n",
       "      <td>anxiety</td>\n",
       "    </tr>\n",
       "    <tr>\n",
       "      <th>5983</th>\n",
       "      <td>Yeah I get DICK D - depression I - irrational ...</td>\n",
       "      <td>-6.0</td>\n",
       "      <td>anxiety</td>\n",
       "    </tr>\n",
       "    <tr>\n",
       "      <th>5984</th>\n",
       "      <td>my anxiety is silent. you wouldn’t even notice...</td>\n",
       "      <td>-4.0</td>\n",
       "      <td>anxiety</td>\n",
       "    </tr>\n",
       "    <tr>\n",
       "      <th>5985</th>\n",
       "      <td>I need a Xanax my anxiety level is super eleva...</td>\n",
       "      <td>1.0</td>\n",
       "      <td>anxiety</td>\n",
       "    </tr>\n",
       "    <tr>\n",
       "      <th>5986</th>\n",
       "      <td>I have this problem in my japanese classes too...</td>\n",
       "      <td>-2.0</td>\n",
       "      <td>anxiety</td>\n",
       "    </tr>\n",
       "    <tr>\n",
       "      <th>5987</th>\n",
       "      <td>me telling my mom im sad about grades meanwhil...</td>\n",
       "      <td>-7.0</td>\n",
       "      <td>anxiety</td>\n",
       "    </tr>\n",
       "    <tr>\n",
       "      <th>5988</th>\n",
       "      <td>Anytime I see shit going down in Houston my an...</td>\n",
       "      <td>-6.0</td>\n",
       "      <td>anxiety</td>\n",
       "    </tr>\n",
       "    <tr>\n",
       "      <th>5989</th>\n",
       "      <td>Okay so the anxiety attacks I get, that make m...</td>\n",
       "      <td>-4.0</td>\n",
       "      <td>anxiety</td>\n",
       "    </tr>\n",
       "    <tr>\n",
       "      <th>5990</th>\n",
       "      <td>I’m on so much anxiety medication, I sat here ...</td>\n",
       "      <td>-3.0</td>\n",
       "      <td>anxiety</td>\n",
       "    </tr>\n",
       "    <tr>\n",
       "      <th>5991</th>\n",
       "      <td>my anxiety is silent. you wouldn’t even notice...</td>\n",
       "      <td>-4.0</td>\n",
       "      <td>anxiety</td>\n",
       "    </tr>\n",
       "    <tr>\n",
       "      <th>5992</th>\n",
       "      <td>Why am I crying in the club right now?</td>\n",
       "      <td>-2.0</td>\n",
       "      <td>anxiety</td>\n",
       "    </tr>\n",
       "    <tr>\n",
       "      <th>5993</th>\n",
       "      <td>NOT TO BE DRAMATIC OR ANYTHING BUT I WOULD DIE...</td>\n",
       "      <td>-3.0</td>\n",
       "      <td>anxiety</td>\n",
       "    </tr>\n",
       "    <tr>\n",
       "      <th>5994</th>\n",
       "      <td>Yeah, I get PUSSY P - panic attacks U - uncont...</td>\n",
       "      <td>-6.0</td>\n",
       "      <td>anxiety</td>\n",
       "    </tr>\n",
       "    <tr>\n",
       "      <th>5995</th>\n",
       "      <td>my anxiety is silent. you wouldn’t even notice...</td>\n",
       "      <td>-4.0</td>\n",
       "      <td>anxiety</td>\n",
       "    </tr>\n",
       "    <tr>\n",
       "      <th>5996</th>\n",
       "      <td>It's been so hard keeping this away from socia...</td>\n",
       "      <td>-1.0</td>\n",
       "      <td>anxiety</td>\n",
       "    </tr>\n",
       "    <tr>\n",
       "      <th>5997</th>\n",
       "      <td>My anxiety to my depression</td>\n",
       "      <td>-2.0</td>\n",
       "      <td>anxiety</td>\n",
       "    </tr>\n",
       "    <tr>\n",
       "      <th>5998</th>\n",
       "      <td>this was me my entire youth</td>\n",
       "      <td>0.0</td>\n",
       "      <td>anxiety</td>\n",
       "    </tr>\n",
       "    <tr>\n",
       "      <th>5999</th>\n",
       "      <td>my anxiety is silent. you wouldn’t even notice...</td>\n",
       "      <td>-4.0</td>\n",
       "      <td>anxiety</td>\n",
       "    </tr>\n",
       "  </tbody>\n",
       "</table>\n",
       "<p>6000 rows × 3 columns</p>\n",
       "</div>"
      ],
      "text/plain": [
       "                                        Disorder Tweets  Affin_Score  \\\n",
       "0     Professional Psychiatric Patients Wanted - App...         -2.0   \n",
       "1     END MENTAL ILLNESS STIGMA ! #Peanuts #Stigma #...         -2.0   \n",
       "2     Getting better should help you do what you wan...          5.0   \n",
       "3     if all the people that have #mentalillness wer...         -6.0   \n",
       "4     Wish we had #mhGAP trained GPs treating #menta...          0.0   \n",
       "5     Oliver the OCD transporter driver has been at ...          0.0   \n",
       "6     In people with disorder, actions are at odds w...         -2.0   \n",
       "7     checking my alarms five times to make sure the...          0.0   \n",
       "8     The most beautiful people we have known are . ...          0.0   \n",
       "9     Ever wonder how to help employees or coworkers...         -2.0   \n",
       "10    shout out to everyone who thinks their rituals...         -1.0   \n",
       "11    Nkasi will be at #croydon central library toda...          0.0   \n",
       "12    Join us at Dulwich Library today from 4pm-6pm ...          6.0   \n",
       "13    \"SURVIVING MENTAL ILLNESS THROUGH HUMOR\" Great...         11.0   \n",
       "14    \"I never dreamed I had based on what I knew fr...          3.0   \n",
       "15    It is a myth that OCD is an adult disorder. Re...         -5.0   \n",
       "16    #anxiety #depression #agoraphobia #PTSD #disor...         -4.0   \n",
       "17    I recall our theatre days and your patients we...          0.0   \n",
       "18    Any #anxiety #depression sufferers out there h...          1.0   \n",
       "19    We did not choose #depression , #bipolar , #sc...         -2.0   \n",
       "20    Emotions are haywire. I don't know which emoti...          1.0   \n",
       "21    do we want our children to thrive #mindfulness...          1.0   \n",
       "22    such a pleasure to write this for @memynmh #ed...          3.0   \n",
       "23    What it's like to survive #postpartum via @Huf...          2.0   \n",
       "24    Okay seriously! New rule for my house: if over...          0.0   \n",
       "25    Alright, that's enough tweets. I bet it must b...         -2.0   \n",
       "26    really cool initiative..... 50% of profits go ...          5.0   \n",
       "27    Here's episode 2 in our podcast series explori...          0.0   \n",
       "28    Yes..too often PND has been a 'catch all' when...          3.0   \n",
       "29    Raking the lawn is hard enough with OCD, but w...          0.0   \n",
       "...                                                 ...          ...   \n",
       "5970                        My anxiety to my depression         -2.0   \n",
       "5971           How I get through my every day anxiety 😂         -2.0   \n",
       "5972  Me: *out having a great time with friends* Anx...         -4.0   \n",
       "5973  Almost 2018 and I’m still letting my anxiety w...         -7.0   \n",
       "5974  guilt is probably the thing I tussle and strug...         -8.0   \n",
       "5975  My anxiety is so bad that I have to drink deca...         -5.0   \n",
       "5976  Maybe if I fall in love with my anxiety it wil...          0.0   \n",
       "5977                  my neck my back my anxiety attack         -3.0   \n",
       "5978  I hate my anxiety. I hate what’s going on insi...         -8.0   \n",
       "5979         My family gives me so much fucking anxiety         -6.0   \n",
       "5980  my anxiety is silent. you wouldn’t even notice...         -4.0   \n",
       "5981  and ik it sounds like me being stupid but this...         -2.0   \n",
       "5982  I'm having a mild anxiety attack because it's ...         -3.0   \n",
       "5983  Yeah I get DICK D - depression I - irrational ...         -6.0   \n",
       "5984  my anxiety is silent. you wouldn’t even notice...         -4.0   \n",
       "5985  I need a Xanax my anxiety level is super eleva...          1.0   \n",
       "5986  I have this problem in my japanese classes too...         -2.0   \n",
       "5987  me telling my mom im sad about grades meanwhil...         -7.0   \n",
       "5988  Anytime I see shit going down in Houston my an...         -6.0   \n",
       "5989  Okay so the anxiety attacks I get, that make m...         -4.0   \n",
       "5990  I’m on so much anxiety medication, I sat here ...         -3.0   \n",
       "5991  my anxiety is silent. you wouldn’t even notice...         -4.0   \n",
       "5992             Why am I crying in the club right now?         -2.0   \n",
       "5993  NOT TO BE DRAMATIC OR ANYTHING BUT I WOULD DIE...         -3.0   \n",
       "5994  Yeah, I get PUSSY P - panic attacks U - uncont...         -6.0   \n",
       "5995  my anxiety is silent. you wouldn’t even notice...         -4.0   \n",
       "5996  It's been so hard keeping this away from socia...         -1.0   \n",
       "5997                        My anxiety to my depression         -2.0   \n",
       "5998                        this was me my entire youth          0.0   \n",
       "5999  my anxiety is silent. you wouldn’t even notice...         -4.0   \n",
       "\n",
       "     Disorder Category  \n",
       "0                  ocd  \n",
       "1                  ocd  \n",
       "2                  ocd  \n",
       "3                  ocd  \n",
       "4                  ocd  \n",
       "5                  ocd  \n",
       "6                  ocd  \n",
       "7                  ocd  \n",
       "8                  ocd  \n",
       "9                  ocd  \n",
       "10                 ocd  \n",
       "11                 ocd  \n",
       "12                 ocd  \n",
       "13                 ocd  \n",
       "14                 ocd  \n",
       "15                 ocd  \n",
       "16                 ocd  \n",
       "17                 ocd  \n",
       "18                 ocd  \n",
       "19                 ocd  \n",
       "20                 ocd  \n",
       "21                 ocd  \n",
       "22                 ocd  \n",
       "23                 ocd  \n",
       "24                 ocd  \n",
       "25                 ocd  \n",
       "26                 ocd  \n",
       "27                 ocd  \n",
       "28                 ocd  \n",
       "29                 ocd  \n",
       "...                ...  \n",
       "5970           anxiety  \n",
       "5971           anxiety  \n",
       "5972           anxiety  \n",
       "5973           anxiety  \n",
       "5974           anxiety  \n",
       "5975           anxiety  \n",
       "5976           anxiety  \n",
       "5977           anxiety  \n",
       "5978           anxiety  \n",
       "5979           anxiety  \n",
       "5980           anxiety  \n",
       "5981           anxiety  \n",
       "5982           anxiety  \n",
       "5983           anxiety  \n",
       "5984           anxiety  \n",
       "5985           anxiety  \n",
       "5986           anxiety  \n",
       "5987           anxiety  \n",
       "5988           anxiety  \n",
       "5989           anxiety  \n",
       "5990           anxiety  \n",
       "5991           anxiety  \n",
       "5992           anxiety  \n",
       "5993           anxiety  \n",
       "5994           anxiety  \n",
       "5995           anxiety  \n",
       "5996           anxiety  \n",
       "5997           anxiety  \n",
       "5998           anxiety  \n",
       "5999           anxiety  \n",
       "\n",
       "[6000 rows x 3 columns]"
      ]
     },
     "execution_count": 14,
     "metadata": {},
     "output_type": "execute_result"
    }
   ],
   "source": [
    "Disorder_Tweets = pd.DataFrame(user_tweetstorecombo,columns=[\"Disorder Tweets\",\"Affin_Score\",\"Disorder Category\"])\n",
    "pkl.dump(Disorder_Tweets, open(\"Disorder_Tweets.pkl\", \"wb\"))\n",
    "pkl.load(open(\"Disorder_Tweets.pkl\", \"rb\"))"
   ]
  },
  {
   "cell_type": "code",
   "execution_count": null,
   "metadata": {},
   "outputs": [],
   "source": []
  },
  {
   "cell_type": "code",
   "execution_count": 11,
   "metadata": {},
   "outputs": [],
   "source": [
    "from sklearn.preprocessing import LabelEncoder\n",
    "label_enc=LabelEncoder()\n",
    "label_enc.fit(Disorder_Tweets[\"Affin_Score\"])\n",
    "lbl_x=label_enc.transform(Disorder_Tweets[\"Affin_Score\"])"
   ]
  },
  {
   "cell_type": "code",
   "execution_count": null,
   "metadata": {},
   "outputs": [],
   "source": []
  },
  {
   "cell_type": "code",
   "execution_count": 13,
   "metadata": {},
   "outputs": [
    {
     "data": {
      "text/plain": [
       "array([<6000x2383 sparse matrix of type '<class 'numpy.float64'>'\n",
       "\twith 40373 stored elements in Compressed Sparse Row format>,\n",
       "       15, 15, ..., 15, 17, 13], dtype=object)"
      ]
     },
     "execution_count": 13,
     "metadata": {},
     "output_type": "execute_result"
    }
   ],
   "source": [
    "#TfIdf\n",
    "from sklearn.feature_extraction.text import TfidfVectorizer\n",
    "tv = TfidfVectorizer(stop_words='english',lowercase=True,max_df=0.8,min_df=3)\n",
    "X = tv.fit_transform(Disorder_Tweets[\"Disorder Tweets\"])\n",
    "y=Disorder_Tweets[\"Disorder Category\"]        \n",
    "np.hstack((X,lbl_x))\n",
    "#print(X.shape)"
   ]
  },
  {
   "cell_type": "code",
   "execution_count": null,
   "metadata": {},
   "outputs": [],
   "source": []
  },
  {
   "cell_type": "code",
   "execution_count": 28,
   "metadata": {},
   "outputs": [
    {
     "name": "stdout",
     "output_type": "stream",
     "text": [
      "0.8484999999999999\n"
     ]
    }
   ],
   "source": [
    "#SVM\n",
    "from sklearn.model_selection import cross_val_score\n",
    "from sklearn.svm import SVC\n",
    "clf = SVC(C=0.9,kernel=\"linear\")\n",
    "#performing crossvalidation\n",
    "scores = cross_val_score(clf, X, y, cv=5)\n",
    "print(scores.mean())"
   ]
  },
  {
   "cell_type": "code",
   "execution_count": null,
   "metadata": {},
   "outputs": [],
   "source": []
  },
  {
   "cell_type": "code",
   "execution_count": 29,
   "metadata": {},
   "outputs": [
    {
     "name": "stdout",
     "output_type": "stream",
     "text": [
      "0.868\n"
     ]
    }
   ],
   "source": [
    "#RandomForestClassifier\n",
    "from sklearn.ensemble import RandomForestClassifier\n",
    "clf1 = RandomForestClassifier(n_jobs=5,n_estimators=150)\n",
    "#performing crossvalidation\n",
    "scores = cross_val_score(clf1, X, y, cv=5)\n",
    "print(scores.mean())"
   ]
  },
  {
   "cell_type": "code",
   "execution_count": null,
   "metadata": {},
   "outputs": [],
   "source": []
  },
  {
   "cell_type": "code",
   "execution_count": 30,
   "metadata": {},
   "outputs": [
    {
     "name": "stdout",
     "output_type": "stream",
     "text": [
      "0.8535\n"
     ]
    }
   ],
   "source": [
    "#using logistic regression\n",
    "from sklearn.linear_model import LogisticRegression\n",
    "clf2 = LogisticRegression(C=0.9,solver='lbfgs',multi_class='multinomial',n_jobs=5)\n",
    "#performing crossvalidation\n",
    "scores = cross_val_score(clf2, X, y, cv=5)\n",
    "print(scores.mean())"
   ]
  },
  {
   "cell_type": "code",
   "execution_count": null,
   "metadata": {},
   "outputs": [],
   "source": []
  },
  {
   "cell_type": "code",
   "execution_count": null,
   "metadata": {},
   "outputs": [],
   "source": []
  },
  {
   "cell_type": "code",
   "execution_count": 33,
   "metadata": {},
   "outputs": [
    {
     "name": "stdout",
     "output_type": "stream",
     "text": [
      "              precision    recall  f1-score   support\n",
      "\n",
      "  depression       0.82      0.86      0.84       651\n",
      "         ocd       0.93      0.76      0.84       651\n",
      "     anxiety       0.82      0.91      0.86       678\n",
      "\n",
      "   micro avg       0.85      0.85      0.85      1980\n",
      "   macro avg       0.85      0.84      0.84      1980\n",
      "weighted avg       0.85      0.85      0.85      1980\n",
      "\n"
     ]
    }
   ],
   "source": [
    "from sklearn.metrics import classification_report\n",
    "print(classification_report(y_test, y_pred,target_names=set(y_test)))"
   ]
  },
  {
   "cell_type": "code",
   "execution_count": null,
   "metadata": {},
   "outputs": [],
   "source": []
  },
  {
   "cell_type": "code",
   "execution_count": 12,
   "metadata": {},
   "outputs": [],
   "source": [
    "#df=pd.read_csv('correlation_matrix.csv')"
   ]
  },
  {
   "cell_type": "code",
   "execution_count": null,
   "metadata": {},
   "outputs": [],
   "source": []
  },
  {
   "cell_type": "code",
   "execution_count": 1,
   "metadata": {},
   "outputs": [
    {
     "data": {
      "text/plain": [
       "LabelEncoder()"
      ]
     },
     "execution_count": 1,
     "metadata": {},
     "output_type": "execute_result"
    }
   ],
   "source": [
    "from sklearn import preprocessing\n",
    "le = preprocessing.LabelEncoder()\n",
    "le.fit([1, 2, 2, 6])"
   ]
  },
  {
   "cell_type": "code",
   "execution_count": 6,
   "metadata": {},
   "outputs": [
    {
     "data": {
      "text/plain": [
       "array([1, 2, 6])"
      ]
     },
     "execution_count": 6,
     "metadata": {},
     "output_type": "execute_result"
    }
   ],
   "source": [
    "le.classes_"
   ]
  },
  {
   "cell_type": "markdown",
   "metadata": {},
   "source": [
    "#DEMO"
   ]
  },
  {
   "cell_type": "code",
   "execution_count": 4,
   "metadata": {},
   "outputs": [
    {
     "data": {
      "text/plain": [
       "array([0, 0, 1, 2])"
      ]
     },
     "execution_count": 4,
     "metadata": {},
     "output_type": "execute_result"
    }
   ],
   "source": [
    "le.transform([1, 1, 2, 6])"
   ]
  },
  {
   "cell_type": "code",
   "execution_count": 5,
   "metadata": {},
   "outputs": [
    {
     "data": {
      "text/plain": [
       "array([1, 1, 2, 6])"
      ]
     },
     "execution_count": 5,
     "metadata": {},
     "output_type": "execute_result"
    }
   ],
   "source": [
    "le.inverse_transform([0, 0, 1, 2])"
   ]
  },
  {
   "cell_type": "code",
   "execution_count": 7,
   "metadata": {},
   "outputs": [
    {
     "data": {
      "text/plain": [
       "LabelEncoder()"
      ]
     },
     "execution_count": 7,
     "metadata": {},
     "output_type": "execute_result"
    }
   ],
   "source": [
    "from sklearn import preprocessing\n",
    "enc = preprocessing.LabelEncoder()\n",
    "enc.fit([1.0,2.0,-3.0,-5.0,3.0])"
   ]
  },
  {
   "cell_type": "code",
   "execution_count": 8,
   "metadata": {},
   "outputs": [
    {
     "data": {
      "text/plain": [
       "array([-5., -3.,  1.,  2.,  3.])"
      ]
     },
     "execution_count": 8,
     "metadata": {},
     "output_type": "execute_result"
    }
   ],
   "source": [
    "enc.classes_"
   ]
  }
 ],
 "metadata": {
  "kernelspec": {
   "display_name": "Python 3",
   "language": "python",
   "name": "python3"
  },
  "language_info": {
   "codemirror_mode": {
    "name": "ipython",
    "version": 3
   },
   "file_extension": ".py",
   "mimetype": "text/x-python",
   "name": "python",
   "nbconvert_exporter": "python",
   "pygments_lexer": "ipython3",
   "version": "3.7.1"
  }
 },
 "nbformat": 4,
 "nbformat_minor": 2
}
