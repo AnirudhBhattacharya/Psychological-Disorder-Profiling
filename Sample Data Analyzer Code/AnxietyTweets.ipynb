{
 "cells": [
  {
   "cell_type": "code",
   "execution_count": 1,
   "metadata": {},
   "outputs": [],
   "source": [
    "import pandas as pd"
   ]
  },
  {
   "cell_type": "code",
   "execution_count": 2,
   "metadata": {},
   "outputs": [],
   "source": [
    "data = pd.read_csv(\"AnxietyData.csv\", encoding=\"unicode-escape\")"
   ]
  },
  {
   "cell_type": "code",
   "execution_count": 3,
   "metadata": {},
   "outputs": [
    {
     "name": "stdout",
     "output_type": "stream",
     "text": [
      "<class 'pandas.core.frame.DataFrame'>\n"
     ]
    }
   ],
   "source": [
    "print(type(data))"
   ]
  },
  {
   "cell_type": "code",
   "execution_count": 4,
   "metadata": {},
   "outputs": [
    {
     "data": {
      "text/html": [
       "<div>\n",
       "<style scoped>\n",
       "    .dataframe tbody tr th:only-of-type {\n",
       "        vertical-align: middle;\n",
       "    }\n",
       "\n",
       "    .dataframe tbody tr th {\n",
       "        vertical-align: top;\n",
       "    }\n",
       "\n",
       "    .dataframe thead th {\n",
       "        text-align: right;\n",
       "    }\n",
       "</style>\n",
       "<table border=\"1\" class=\"dataframe\">\n",
       "  <thead>\n",
       "    <tr style=\"text-align: right;\">\n",
       "      <th></th>\n",
       "      <th>User</th>\n",
       "      <th>Tweet</th>\n",
       "      <th>Language</th>\n",
       "      <th>Location</th>\n",
       "    </tr>\n",
       "  </thead>\n",
       "  <tbody>\n",
       "    <tr>\n",
       "      <th>0</th>\n",
       "      <td>andriisedniev</td>\n",
       "      <td>Stage Fright?  Heres a Solution You Wont Be...</td>\n",
       "      <td>en</td>\n",
       "      <td>Dallas, TX</td>\n",
       "    </tr>\n",
       "    <tr>\n",
       "      <th>1</th>\n",
       "      <td>vkararwa</td>\n",
       "      <td>Three Key Ways To Avoid Depression And #Anxiet...</td>\n",
       "      <td>en-gb</td>\n",
       "      <td>London, England</td>\n",
       "    </tr>\n",
       "    <tr>\n",
       "      <th>2</th>\n",
       "      <td>LizABee_gfx</td>\n",
       "      <td>https://t.co/pvjukIO5R1\\n.\\n.\\n.\\n.\\n #BrokenD...</td>\n",
       "      <td>en</td>\n",
       "      <td>Indiana, USA</td>\n",
       "    </tr>\n",
       "    <tr>\n",
       "      <th>3</th>\n",
       "      <td>gladiatorcoach</td>\n",
       "      <td>What is your stress level 1 - 3 - 5? How do yo...</td>\n",
       "      <td>en</td>\n",
       "      <td>USA</td>\n",
       "    </tr>\n",
       "    <tr>\n",
       "      <th>4</th>\n",
       "      <td>victorBiii</td>\n",
       "      <td>RT @ChildrensColo: Parents may be able to prev...</td>\n",
       "      <td>en</td>\n",
       "      <td>Greeley CO</td>\n",
       "    </tr>\n",
       "  </tbody>\n",
       "</table>\n",
       "</div>"
      ],
      "text/plain": [
       "             User                                              Tweet Language  \\\n",
       "0   andriisedniev  Stage Fright?  Heres a Solution You Wont Be...       en   \n",
       "1        vkararwa  Three Key Ways To Avoid Depression And #Anxiet...    en-gb   \n",
       "2     LizABee_gfx  https://t.co/pvjukIO5R1\\n.\\n.\\n.\\n.\\n #BrokenD...       en   \n",
       "3  gladiatorcoach  What is your stress level 1 - 3 - 5? How do yo...       en   \n",
       "4      victorBiii  RT @ChildrensColo: Parents may be able to prev...       en   \n",
       "\n",
       "          Location  \n",
       "0       Dallas, TX  \n",
       "1  London, England  \n",
       "2     Indiana, USA  \n",
       "3              USA  \n",
       "4       Greeley CO  "
      ]
     },
     "execution_count": 4,
     "metadata": {},
     "output_type": "execute_result"
    }
   ],
   "source": [
    "data.head()"
   ]
  },
  {
   "cell_type": "code",
   "execution_count": 5,
   "metadata": {},
   "outputs": [],
   "source": [
    "from nltk import word_tokenize"
   ]
  },
  {
   "cell_type": "code",
   "execution_count": 6,
   "metadata": {},
   "outputs": [],
   "source": [
    "sentiment_labels = []"
   ]
  },
  {
   "cell_type": "code",
   "execution_count": 7,
   "metadata": {},
   "outputs": [],
   "source": [
    "for tweet in data['Tweet']:\n",
    "    tokenized_tweet = word_tokenize(tweet)\n",
    "    if \"good\" in tokenized_tweet:\n",
    "        sentiment_labels.append(1)\n",
    "    elif \"bad\" in tokenized_tweet:\n",
    "        sentiment_labels.append(-1)\n",
    "    else:\n",
    "        sentiment_labels.append(0)"
   ]
  },
  {
   "cell_type": "code",
   "execution_count": 8,
   "metadata": {},
   "outputs": [],
   "source": [
    "data['sentiment'] = sentiment_labels"
   ]
  },
  {
   "cell_type": "code",
   "execution_count": 9,
   "metadata": {},
   "outputs": [
    {
     "data": {
      "text/html": [
       "<div>\n",
       "<style scoped>\n",
       "    .dataframe tbody tr th:only-of-type {\n",
       "        vertical-align: middle;\n",
       "    }\n",
       "\n",
       "    .dataframe tbody tr th {\n",
       "        vertical-align: top;\n",
       "    }\n",
       "\n",
       "    .dataframe thead th {\n",
       "        text-align: right;\n",
       "    }\n",
       "</style>\n",
       "<table border=\"1\" class=\"dataframe\">\n",
       "  <thead>\n",
       "    <tr style=\"text-align: right;\">\n",
       "      <th></th>\n",
       "      <th>User</th>\n",
       "      <th>Tweet</th>\n",
       "      <th>Language</th>\n",
       "      <th>Location</th>\n",
       "      <th>sentiment</th>\n",
       "    </tr>\n",
       "  </thead>\n",
       "  <tbody>\n",
       "    <tr>\n",
       "      <th>0</th>\n",
       "      <td>andriisedniev</td>\n",
       "      <td>Stage Fright?  Heres a Solution You Wont Be...</td>\n",
       "      <td>en</td>\n",
       "      <td>Dallas, TX</td>\n",
       "      <td>0</td>\n",
       "    </tr>\n",
       "    <tr>\n",
       "      <th>1</th>\n",
       "      <td>vkararwa</td>\n",
       "      <td>Three Key Ways To Avoid Depression And #Anxiet...</td>\n",
       "      <td>en-gb</td>\n",
       "      <td>London, England</td>\n",
       "      <td>0</td>\n",
       "    </tr>\n",
       "    <tr>\n",
       "      <th>2</th>\n",
       "      <td>LizABee_gfx</td>\n",
       "      <td>https://t.co/pvjukIO5R1\\n.\\n.\\n.\\n.\\n #BrokenD...</td>\n",
       "      <td>en</td>\n",
       "      <td>Indiana, USA</td>\n",
       "      <td>0</td>\n",
       "    </tr>\n",
       "    <tr>\n",
       "      <th>3</th>\n",
       "      <td>gladiatorcoach</td>\n",
       "      <td>What is your stress level 1 - 3 - 5? How do yo...</td>\n",
       "      <td>en</td>\n",
       "      <td>USA</td>\n",
       "      <td>0</td>\n",
       "    </tr>\n",
       "    <tr>\n",
       "      <th>4</th>\n",
       "      <td>victorBiii</td>\n",
       "      <td>RT @ChildrensColo: Parents may be able to prev...</td>\n",
       "      <td>en</td>\n",
       "      <td>Greeley CO</td>\n",
       "      <td>0</td>\n",
       "    </tr>\n",
       "    <tr>\n",
       "      <th>5</th>\n",
       "      <td>triggleepuff</td>\n",
       "      <td>RT @PsychCentral: Work Stress and Trouble Slee...</td>\n",
       "      <td>en</td>\n",
       "      <td>United States</td>\n",
       "      <td>0</td>\n",
       "    </tr>\n",
       "    <tr>\n",
       "      <th>6</th>\n",
       "      <td>susan_az</td>\n",
       "      <td>RT @MariannePestana: Tune in Today at 8pmET/5p...</td>\n",
       "      <td>en</td>\n",
       "      <td>Scottsdale, AZ</td>\n",
       "      <td>0</td>\n",
       "    </tr>\n",
       "    <tr>\n",
       "      <th>7</th>\n",
       "      <td>DrBonnie360</td>\n",
       "      <td>#Anxiety affects almost everyone - here are so...</td>\n",
       "      <td>en</td>\n",
       "      <td>SF, LA, SD</td>\n",
       "      <td>0</td>\n",
       "    </tr>\n",
       "    <tr>\n",
       "      <th>8</th>\n",
       "      <td>PsychCentralPro</td>\n",
       "      <td>RT @PsychCentral: Work Stress and Trouble Slee...</td>\n",
       "      <td>en</td>\n",
       "      <td>Newburyport, MA</td>\n",
       "      <td>0</td>\n",
       "    </tr>\n",
       "    <tr>\n",
       "      <th>9</th>\n",
       "      <td>ElleAyEsse</td>\n",
       "      <td>Have you ever been side tracked while driving,...</td>\n",
       "      <td>en</td>\n",
       "      <td>Midwestern USA</td>\n",
       "      <td>0</td>\n",
       "    </tr>\n",
       "  </tbody>\n",
       "</table>\n",
       "</div>"
      ],
      "text/plain": [
       "              User                                              Tweet  \\\n",
       "0    andriisedniev  Stage Fright?  Heres a Solution You Wont Be...   \n",
       "1         vkararwa  Three Key Ways To Avoid Depression And #Anxiet...   \n",
       "2      LizABee_gfx  https://t.co/pvjukIO5R1\\n.\\n.\\n.\\n.\\n #BrokenD...   \n",
       "3   gladiatorcoach  What is your stress level 1 - 3 - 5? How do yo...   \n",
       "4       victorBiii  RT @ChildrensColo: Parents may be able to prev...   \n",
       "5     triggleepuff  RT @PsychCentral: Work Stress and Trouble Slee...   \n",
       "6         susan_az  RT @MariannePestana: Tune in Today at 8pmET/5p...   \n",
       "7      DrBonnie360  #Anxiety affects almost everyone - here are so...   \n",
       "8  PsychCentralPro  RT @PsychCentral: Work Stress and Trouble Slee...   \n",
       "9       ElleAyEsse  Have you ever been side tracked while driving,...   \n",
       "\n",
       "  Language         Location  sentiment  \n",
       "0       en       Dallas, TX          0  \n",
       "1    en-gb  London, England          0  \n",
       "2       en     Indiana, USA          0  \n",
       "3       en              USA          0  \n",
       "4       en       Greeley CO          0  \n",
       "5       en    United States          0  \n",
       "6       en   Scottsdale, AZ          0  \n",
       "7       en       SF, LA, SD          0  \n",
       "8       en  Newburyport, MA          0  \n",
       "9       en   Midwestern USA          0  "
      ]
     },
     "execution_count": 9,
     "metadata": {},
     "output_type": "execute_result"
    }
   ],
   "source": [
    "data.head(10)"
   ]
  },
  {
   "cell_type": "code",
   "execution_count": 10,
   "metadata": {},
   "outputs": [
    {
     "data": {
      "text/html": [
       "<div>\n",
       "<style scoped>\n",
       "    .dataframe tbody tr th:only-of-type {\n",
       "        vertical-align: middle;\n",
       "    }\n",
       "\n",
       "    .dataframe tbody tr th {\n",
       "        vertical-align: top;\n",
       "    }\n",
       "\n",
       "    .dataframe thead th {\n",
       "        text-align: right;\n",
       "    }\n",
       "</style>\n",
       "<table border=\"1\" class=\"dataframe\">\n",
       "  <thead>\n",
       "    <tr style=\"text-align: right;\">\n",
       "      <th></th>\n",
       "      <th>User</th>\n",
       "      <th>Tweet</th>\n",
       "      <th>Language</th>\n",
       "      <th>Location</th>\n",
       "      <th>sentiment</th>\n",
       "    </tr>\n",
       "  </thead>\n",
       "  <tbody>\n",
       "    <tr>\n",
       "      <th>1990</th>\n",
       "      <td>PranicHWales</td>\n",
       "      <td>Family find it difficult to sit down and relax...</td>\n",
       "      <td>en</td>\n",
       "      <td>Wales, United Kingdom</td>\n",
       "      <td>0</td>\n",
       "    </tr>\n",
       "    <tr>\n",
       "      <th>1991</th>\n",
       "      <td>forevermrsbee</td>\n",
       "      <td>RT @NatchCorporate: I've never seen something ...</td>\n",
       "      <td>en</td>\n",
       "      <td>The Boonies</td>\n",
       "      <td>0</td>\n",
       "    </tr>\n",
       "    <tr>\n",
       "      <th>1992</th>\n",
       "      <td>saferphones</td>\n",
       "      <td>RT @Screensandkids: Who REQUIRES kids to be on...</td>\n",
       "      <td>en</td>\n",
       "      <td>Washington, DC</td>\n",
       "      <td>0</td>\n",
       "    </tr>\n",
       "    <tr>\n",
       "      <th>1993</th>\n",
       "      <td>ketaminehealth</td>\n",
       "      <td>An estimated 5.2 million adults in the U.S. su...</td>\n",
       "      <td>en</td>\n",
       "      <td>Miami, FL</td>\n",
       "      <td>0</td>\n",
       "    </tr>\n",
       "    <tr>\n",
       "      <th>1994</th>\n",
       "      <td>CalmReminder</td>\n",
       "      <td>8 AM Reminder: You are ok. You are safe. Don't...</td>\n",
       "      <td>en</td>\n",
       "      <td>United States</td>\n",
       "      <td>0</td>\n",
       "    </tr>\n",
       "    <tr>\n",
       "      <th>1995</th>\n",
       "      <td>bkngqn</td>\n",
       "      <td>RT @NatchCorporate: I've never seen something ...</td>\n",
       "      <td>en</td>\n",
       "      <td>#endthestigma</td>\n",
       "      <td>0</td>\n",
       "    </tr>\n",
       "    <tr>\n",
       "      <th>1996</th>\n",
       "      <td>counsellor_dir</td>\n",
       "      <td>Strategies to reduce anxiety and depression ht...</td>\n",
       "      <td>en</td>\n",
       "      <td>UK &amp; Ireland</td>\n",
       "      <td>0</td>\n",
       "    </tr>\n",
       "    <tr>\n",
       "      <th>1997</th>\n",
       "      <td>MPorretta</td>\n",
       "      <td>#quote #emotions #anxiety #growth #faith #cour...</td>\n",
       "      <td>en</td>\n",
       "      <td>Toronto, Ontario</td>\n",
       "      <td>0</td>\n",
       "    </tr>\n",
       "    <tr>\n",
       "      <th>1998</th>\n",
       "      <td>sunshynhappinss</td>\n",
       "      <td>Just over 2 miles today. 4-day weekend! #run #...</td>\n",
       "      <td>en</td>\n",
       "      <td>Lusby, MD</td>\n",
       "      <td>0</td>\n",
       "    </tr>\n",
       "    <tr>\n",
       "      <th>1999</th>\n",
       "      <td>HuntercombeTHG</td>\n",
       "      <td>In a recent survey, 8 out of 10 teachers said ...</td>\n",
       "      <td>en</td>\n",
       "      <td>HQ Newmarket, Suffolk</td>\n",
       "      <td>0</td>\n",
       "    </tr>\n",
       "  </tbody>\n",
       "</table>\n",
       "</div>"
      ],
      "text/plain": [
       "                 User                                              Tweet  \\\n",
       "1990     PranicHWales  Family find it difficult to sit down and relax...   \n",
       "1991    forevermrsbee  RT @NatchCorporate: I've never seen something ...   \n",
       "1992      saferphones  RT @Screensandkids: Who REQUIRES kids to be on...   \n",
       "1993   ketaminehealth  An estimated 5.2 million adults in the U.S. su...   \n",
       "1994     CalmReminder  8 AM Reminder: You are ok. You are safe. Don't...   \n",
       "1995           bkngqn  RT @NatchCorporate: I've never seen something ...   \n",
       "1996   counsellor_dir  Strategies to reduce anxiety and depression ht...   \n",
       "1997        MPorretta  #quote #emotions #anxiety #growth #faith #cour...   \n",
       "1998  sunshynhappinss  Just over 2 miles today. 4-day weekend! #run #...   \n",
       "1999   HuntercombeTHG  In a recent survey, 8 out of 10 teachers said ...   \n",
       "\n",
       "     Language               Location  sentiment  \n",
       "1990       en  Wales, United Kingdom          0  \n",
       "1991       en           The Boonies           0  \n",
       "1992       en         Washington, DC          0  \n",
       "1993       en              Miami, FL          0  \n",
       "1994       en          United States          0  \n",
       "1995       en          #endthestigma          0  \n",
       "1996       en           UK & Ireland          0  \n",
       "1997       en       Toronto, Ontario          0  \n",
       "1998       en              Lusby, MD          0  \n",
       "1999       en  HQ Newmarket, Suffolk          0  "
      ]
     },
     "execution_count": 10,
     "metadata": {},
     "output_type": "execute_result"
    }
   ],
   "source": [
    "data.tail(10)"
   ]
  },
  {
   "cell_type": "code",
   "execution_count": 11,
   "metadata": {},
   "outputs": [
    {
     "data": {
      "text/plain": [
       "User             sentiment\n",
       "017kat           0            1\n",
       "1120Eclipse      0            1\n",
       "1_ATL_Therapist  0            1\n",
       "2016Disclosure   0            1\n",
       "24InMyMind       0            2\n",
       "250HealthyFoods  0            1\n",
       "2_fleurdelis     0            1\n",
       "2oddgirls        0            1\n",
       "2oldest          0            1\n",
       "3Spyro75         0            1\n",
       "501mossy         0            1\n",
       "70sChickadee     0            1\n",
       "750diol          0            2\n",
       "99CentsKindle    0            1\n",
       "AAbbottStroke    0            1\n",
       "AChVoice         0            1\n",
       "ADAVIC           0            1\n",
       "AFR365           0            2\n",
       "AFutterer        0            2\n",
       "AJIHealth        0            1\n",
       "AJarvis728       0            1\n",
       "AQueerMess       0            1\n",
       "ATCBDUK          0            1\n",
       "AUnravelled      0            1\n",
       "AWillowsDream    1            1\n",
       "AbbeG_CDM        0            1\n",
       "AboutConnection  0            1\n",
       "AconwayM         0            1\n",
       "Ageless_2u       0            2\n",
       "Ajaygolmalgobi   0            1\n",
       "                             ..\n",
       "vikkimack_hh     0            1\n",
       "viv22jan         0            2\n",
       "vivaeditions     0            1\n",
       "vivienlwsmile    0            1\n",
       "vkararwa         0            1\n",
       "wait4sum1        0            1\n",
       "wearephsny       0            1\n",
       "wendyevaK        0            1\n",
       "whartonesque     0            1\n",
       "whatKTdoes_now   0            1\n",
       "whatgoesonmedia  0            1\n",
       "whitelotuswell   0            1\n",
       "wigman57         0            1\n",
       "wildfoxtherapy   0            1\n",
       "wing_paranormal  0            2\n",
       "winnlovewinn     0            1\n",
       "wisdompearls79   0            1\n",
       "witchbish7       0            1\n",
       "wolfgalchazz     0            1\n",
       "workforcenews    1            1\n",
       "worrybeadsuk     0            1\n",
       "xXDEADicatedXx   0            1\n",
       "xXx_Jacqui_xXx   0            1\n",
       "yesha_luna       0            2\n",
       "youmatnotalone   0            4\n",
       "yudhine          0            1\n",
       "zacharydostin    0            1\n",
       "zahramerali1807  0            2\n",
       "zakatak17        0            1\n",
       "zelandroid009    0            1\n",
       "Name: User, Length: 1484, dtype: int64"
      ]
     },
     "execution_count": 11,
     "metadata": {},
     "output_type": "execute_result"
    }
   ],
   "source": [
    "data.groupby([\"User\", \"sentiment\"])[\"User\"].agg(\"count\")"
   ]
  },
  {
   "cell_type": "code",
   "execution_count": 12,
   "metadata": {},
   "outputs": [
    {
     "name": "stdout",
     "output_type": "stream",
     "text": [
      "User, Negative\n",
      "If you break your leg, you don't wait until gangrene sets in before \"it's bad enough\" to go to the hospital. So why do we live with #mentalillness, like #anxiety or #depression, but wait until we have nervous breakdowns before it's \"okay\" to go to the hospital? #MentalHealth\n",
      "****************************************************************************************************\n",
      "Worry becomes a habitual way of coping to prevent a negative occurrence or something bad from happening. Accurate description of #GAD in our #psychiatricnursing textbook. #anxiety #generalizedanxietydisorder #destigmatizementalillness\n",
      "****************************************************************************************************\n",
      "In a particularly bad depressive episode today, certainly strong thoughts of suicide. But a little awareness of thoughts has crept in and detachment from the voice in my head. Though, the feelings are still overwhelming. ?? #MentalHealthMatters #depression #anxiety https://t.co/ZmIfA1NyDw\n",
      "****************************************************************************************************\n",
      "RT @FmwgInc: Fear makes the wolf bigger than he is. German proverb \n",
      "\n",
      "How often have you heard \"It wasn't as bad as I thought.\" That should tell us something. @FmwgInc \n",
      "\n",
      "#Action #fearfactor #MindBodyThoughts #Anxiety #Focus #mindset\n",
      "****************************************************************************************************\n",
      "RT @Florriedoodle: Sister and kids are coming to stay later and Im struggling to cope with the changes this brings. Having a bad #MentalHealth day and just want to sleep so my brain can switch off. #depression #anxiety #autism #OCD This sucks and is hard to get through\n",
      "****************************************************************************************************\n",
      "Sister and kids are coming to stay later and Im struggling to cope with the changes this brings. Having a bad #MentalHealth day and just want to sleep so my brain can switch off. #depression #anxiety #autism #OCD This sucks and is hard to get through\n",
      "****************************************************************************************************\n"
     ]
    }
   ],
   "source": [
    "c_neg = data[(data['sentiment']==-1)]\n",
    "print(\"User, Negative\")\n",
    "for t in c_neg['Tweet'][:6]:\n",
    "    print(t)\n",
    "    print(\"*\"*100)"
   ]
  },
  {
   "cell_type": "code",
   "execution_count": 13,
   "metadata": {},
   "outputs": [
    {
     "name": "stdout",
     "output_type": "stream",
     "text": [
      "User, Positive\n",
      "RT @kozepusen: Have a good weekend all? Love Mika ???\n",
      "#vintage #photographe #vinyl #gamer #music #twitch #hobbies #crafts #life #feels #famalams #norway #discord #mentalillness #depresión #anxiety #adhd #ptsd #positiveenergy",
      " https://t.co/aa0OReRSVd\n",
      "****************************************************************************************************\n",
      "Have a good weekend all? Love Mika ???\n",
      "#vintage #photographe #vinyl #gamer #music #twitch #hobbies #crafts #life #feels #famalams #norway #discord #mentalillness #depresión #anxiety #adhd #ptsd #positiveenergy",
      " https://t.co/aa0OReRSVd\n",
      "****************************************************************************************************\n",
      "LETS STAND UP TO #Depression #ANXIETY #MentalHealthMatters  its good to talk #Actor #Musicvideo #Producer #designer #beats #bars #festivalseason #dj #songwriter #composer #piano sorry if the contents offends but this goes through many young peoples minds ? Thankyou 4 any RT? https://t.co/nlxsoitjx7\n",
      "****************************************************************************************************\n",
      "Please sir, can I have some coffee and eggs please?\n",
      "Warriors need to eat well. It is just as important as having friends. Doesnt it look good?! Enough for a coming battle. Or adventure ??\n",
      ".\n",
      ".\n",
      "#anxiety #depression",
      " https://t.co/rpSgHCiDbz\n",
      "****************************************************************************************************\n",
      "Anxious kids? How #sleep is linked to #anxiety plus 10 ways to help your kids get a good nights sleep: https://t.co/A90JHflZ1W #parenting\n",
      "****************************************************************************************************\n",
      "Tweet so good, that started following before even clicking \"LIKE\"\n",
      "#hiphop #fashion #ps  #lifecoach\n",
      "#videos #memes  #relationshiptips \n",
      "#anxiety  #positivity\n",
      "#DatingAdvice #amwriting #amwritingfantasy #technology #BusinessOwners #LeadershipSummit\n",
      "https://t.co/eZa75j1Fv7\n",
      "****************************************************************************************************\n"
     ]
    }
   ],
   "source": [
    "c_pos = data[(data['sentiment']==1)]\n",
    "print(\"User, Positive\")\n",
    "for t in c_pos['Tweet'][:6]:\n",
    "    print(t)\n",
    "    print(\"*\"*100)"
   ]
  },
  {
   "cell_type": "code",
   "execution_count": 14,
   "metadata": {},
   "outputs": [
    {
     "name": "stdout",
     "output_type": "stream",
     "text": [
      "User, General\n",
      "Stage Fright?  Heres a Solution You Wont Believe! https://t.co/Uf6SbVMYKM #stage #fear #anxiety #publicspeaking #speak https://t.co/CJ6HpzPQpk\n",
      "****************************************************************************************************\n",
      "Three Key Ways To Avoid Depression And #Anxiety As An Entrepreneur\n",
      "https://t.co/PlwFSR5UsB https://t.co/Dg13hSM4d6\n",
      "****************************************************************************************************\n",
      "https://t.co/pvjukIO5R1\n",
      ".\n",
      ".\n",
      ".\n",
      ".\n",
      " #BrokenDollGamers #MysticMooners #BeautyGamers #jokerswild #PrimeGamers #bethelight  #chroniclyme #ChronicPain #makekratomlegal #fibromyalgia #Gamer #invisableillness #depression #anxiety #butyoudontlooksick #sickofbeingsick #chronicallyfab #cbd https://t.co/QqtlenkD0k\n",
      "****************************************************************************************************\n",
      "What is your stress level 1 - 3 - 5? How do you reduce it? #MemorialDayWeekend #leadership #edleader #business #entrepreneurship #CEO #edSupt #anxiety #mentalhealth #spokane #vegas #Portland #leaderthinktank\n",
      "****************************************************************************************************\n",
      "RT @ChildrensColo: Parents may be able to prevent future #anxiety and #depression by helping their kids learn to manage #stress early. See what our experts suggest: https://t.co/Qtqt1z1rEx\n",
      "****************************************************************************************************\n",
      "RT @PsychCentral: Work Stress and Trouble Sleeping Can Be Toxic Combination https://t.co/59TFDjwikA #Anxiety https://t.co/jmxSzzuYfc\n",
      "****************************************************************************************************\n"
     ]
    }
   ],
   "source": [
    "c_pos = data[(data['sentiment']==0)]\n",
    "print(\"User, General\")\n",
    "for t in c_pos['Tweet'][:6]:\n",
    "    print(t)\n",
    "    print(\"*\"*100)"
   ]
  },
  {
   "cell_type": "code",
   "execution_count": 16,
   "metadata": {},
   "outputs": [],
   "source": [
    "from afinn import Afinn"
   ]
  },
  {
   "cell_type": "code",
   "execution_count": 17,
   "metadata": {},
   "outputs": [],
   "source": [
    "afinn = Afinn()"
   ]
  },
  {
   "cell_type": "code",
   "execution_count": 18,
   "metadata": {},
   "outputs": [
    {
     "data": {
      "text/plain": [
       "7.0"
      ]
     },
     "execution_count": 18,
     "metadata": {},
     "output_type": "execute_result"
    }
   ],
   "source": [
    "afinn.score(\"What a wonderful day! The sun is shining and the birds are singing. I feel great.\")"
   ]
  },
  {
   "cell_type": "code",
   "execution_count": 19,
   "metadata": {},
   "outputs": [
    {
     "data": {
      "text/plain": [
       "-4.0"
      ]
     },
     "execution_count": 19,
     "metadata": {},
     "output_type": "execute_result"
    }
   ],
   "source": [
    "afinn.score(\"What a dreary and depressing day. It's raining and I don't even own an umbrella.\")"
   ]
  },
  {
   "cell_type": "code",
   "execution_count": 20,
   "metadata": {},
   "outputs": [
    {
     "data": {
      "text/plain": [
       "[-2.0, -3.0, -2.0, -2.0, -2.0]"
      ]
     },
     "execution_count": 20,
     "metadata": {},
     "output_type": "execute_result"
    }
   ],
   "source": [
    "pscore = []\n",
    "\n",
    "for text in data['Tweet']:\n",
    "    pscore.append(afinn.score(text))\n",
    "    \n",
    "pscore[:5]"
   ]
  },
  {
   "cell_type": "code",
   "execution_count": 21,
   "metadata": {},
   "outputs": [],
   "source": [
    "data['pscore'] = pscore"
   ]
  },
  {
   "cell_type": "code",
   "execution_count": 22,
   "metadata": {},
   "outputs": [
    {
     "data": {
      "text/html": [
       "<div>\n",
       "<style scoped>\n",
       "    .dataframe tbody tr th:only-of-type {\n",
       "        vertical-align: middle;\n",
       "    }\n",
       "\n",
       "    .dataframe tbody tr th {\n",
       "        vertical-align: top;\n",
       "    }\n",
       "\n",
       "    .dataframe thead th {\n",
       "        text-align: right;\n",
       "    }\n",
       "</style>\n",
       "<table border=\"1\" class=\"dataframe\">\n",
       "  <thead>\n",
       "    <tr style=\"text-align: right;\">\n",
       "      <th></th>\n",
       "      <th>User</th>\n",
       "      <th>Tweet</th>\n",
       "      <th>Language</th>\n",
       "      <th>Location</th>\n",
       "      <th>sentiment</th>\n",
       "      <th>pscore</th>\n",
       "    </tr>\n",
       "  </thead>\n",
       "  <tbody>\n",
       "    <tr>\n",
       "      <th>0</th>\n",
       "      <td>andriisedniev</td>\n",
       "      <td>Stage Fright?  Heres a Solution You Wont Be...</td>\n",
       "      <td>en</td>\n",
       "      <td>Dallas, TX</td>\n",
       "      <td>0</td>\n",
       "      <td>-2.0</td>\n",
       "    </tr>\n",
       "    <tr>\n",
       "      <th>1</th>\n",
       "      <td>vkararwa</td>\n",
       "      <td>Three Key Ways To Avoid Depression And #Anxiet...</td>\n",
       "      <td>en-gb</td>\n",
       "      <td>London, England</td>\n",
       "      <td>0</td>\n",
       "      <td>-3.0</td>\n",
       "    </tr>\n",
       "    <tr>\n",
       "      <th>2</th>\n",
       "      <td>LizABee_gfx</td>\n",
       "      <td>https://t.co/pvjukIO5R1\\n.\\n.\\n.\\n.\\n #BrokenD...</td>\n",
       "      <td>en</td>\n",
       "      <td>Indiana, USA</td>\n",
       "      <td>0</td>\n",
       "      <td>-2.0</td>\n",
       "    </tr>\n",
       "    <tr>\n",
       "      <th>3</th>\n",
       "      <td>gladiatorcoach</td>\n",
       "      <td>What is your stress level 1 - 3 - 5? How do yo...</td>\n",
       "      <td>en</td>\n",
       "      <td>USA</td>\n",
       "      <td>0</td>\n",
       "      <td>-2.0</td>\n",
       "    </tr>\n",
       "    <tr>\n",
       "      <th>4</th>\n",
       "      <td>victorBiii</td>\n",
       "      <td>RT @ChildrensColo: Parents may be able to prev...</td>\n",
       "      <td>en</td>\n",
       "      <td>Greeley CO</td>\n",
       "      <td>0</td>\n",
       "      <td>-2.0</td>\n",
       "    </tr>\n",
       "  </tbody>\n",
       "</table>\n",
       "</div>"
      ],
      "text/plain": [
       "             User                                              Tweet Language  \\\n",
       "0   andriisedniev  Stage Fright?  Heres a Solution You Wont Be...       en   \n",
       "1        vkararwa  Three Key Ways To Avoid Depression And #Anxiet...    en-gb   \n",
       "2     LizABee_gfx  https://t.co/pvjukIO5R1\\n.\\n.\\n.\\n.\\n #BrokenD...       en   \n",
       "3  gladiatorcoach  What is your stress level 1 - 3 - 5? How do yo...       en   \n",
       "4      victorBiii  RT @ChildrensColo: Parents may be able to prev...       en   \n",
       "\n",
       "          Location  sentiment  pscore  \n",
       "0       Dallas, TX          0    -2.0  \n",
       "1  London, England          0    -3.0  \n",
       "2     Indiana, USA          0    -2.0  \n",
       "3              USA          0    -2.0  \n",
       "4       Greeley CO          0    -2.0  "
      ]
     },
     "execution_count": 22,
     "metadata": {},
     "output_type": "execute_result"
    }
   ],
   "source": [
    "data.head()"
   ]
  },
  {
   "cell_type": "code",
   "execution_count": 23,
   "metadata": {},
   "outputs": [
    {
     "data": {
      "text/html": [
       "<div>\n",
       "<style scoped>\n",
       "    .dataframe tbody tr th:only-of-type {\n",
       "        vertical-align: middle;\n",
       "    }\n",
       "\n",
       "    .dataframe tbody tr th {\n",
       "        vertical-align: top;\n",
       "    }\n",
       "\n",
       "    .dataframe thead th {\n",
       "        text-align: right;\n",
       "    }\n",
       "</style>\n",
       "<table border=\"1\" class=\"dataframe\">\n",
       "  <thead>\n",
       "    <tr style=\"text-align: right;\">\n",
       "      <th></th>\n",
       "      <th>User</th>\n",
       "      <th>Tweet</th>\n",
       "      <th>Language</th>\n",
       "      <th>Location</th>\n",
       "      <th>sentiment</th>\n",
       "      <th>pscore</th>\n",
       "    </tr>\n",
       "  </thead>\n",
       "  <tbody>\n",
       "    <tr>\n",
       "      <th>1995</th>\n",
       "      <td>bkngqn</td>\n",
       "      <td>RT @NatchCorporate: I've never seen something ...</td>\n",
       "      <td>en</td>\n",
       "      <td>#endthestigma</td>\n",
       "      <td>0</td>\n",
       "      <td>-2.0</td>\n",
       "    </tr>\n",
       "    <tr>\n",
       "      <th>1996</th>\n",
       "      <td>counsellor_dir</td>\n",
       "      <td>Strategies to reduce anxiety and depression ht...</td>\n",
       "      <td>en</td>\n",
       "      <td>UK &amp; Ireland</td>\n",
       "      <td>0</td>\n",
       "      <td>-4.0</td>\n",
       "    </tr>\n",
       "    <tr>\n",
       "      <th>1997</th>\n",
       "      <td>MPorretta</td>\n",
       "      <td>#quote #emotions #anxiety #growth #faith #cour...</td>\n",
       "      <td>en</td>\n",
       "      <td>Toronto, Ontario</td>\n",
       "      <td>0</td>\n",
       "      <td>21.0</td>\n",
       "    </tr>\n",
       "    <tr>\n",
       "      <th>1998</th>\n",
       "      <td>sunshynhappinss</td>\n",
       "      <td>Just over 2 miles today. 4-day weekend! #run #...</td>\n",
       "      <td>en</td>\n",
       "      <td>Lusby, MD</td>\n",
       "      <td>0</td>\n",
       "      <td>-1.0</td>\n",
       "    </tr>\n",
       "    <tr>\n",
       "      <th>1999</th>\n",
       "      <td>HuntercombeTHG</td>\n",
       "      <td>In a recent survey, 8 out of 10 teachers said ...</td>\n",
       "      <td>en</td>\n",
       "      <td>HQ Newmarket, Suffolk</td>\n",
       "      <td>0</td>\n",
       "      <td>-6.0</td>\n",
       "    </tr>\n",
       "  </tbody>\n",
       "</table>\n",
       "</div>"
      ],
      "text/plain": [
       "                 User                                              Tweet  \\\n",
       "1995           bkngqn  RT @NatchCorporate: I've never seen something ...   \n",
       "1996   counsellor_dir  Strategies to reduce anxiety and depression ht...   \n",
       "1997        MPorretta  #quote #emotions #anxiety #growth #faith #cour...   \n",
       "1998  sunshynhappinss  Just over 2 miles today. 4-day weekend! #run #...   \n",
       "1999   HuntercombeTHG  In a recent survey, 8 out of 10 teachers said ...   \n",
       "\n",
       "     Language               Location  sentiment  pscore  \n",
       "1995       en          #endthestigma          0    -2.0  \n",
       "1996       en           UK & Ireland          0    -4.0  \n",
       "1997       en       Toronto, Ontario          0    21.0  \n",
       "1998       en              Lusby, MD          0    -1.0  \n",
       "1999       en  HQ Newmarket, Suffolk          0    -6.0  "
      ]
     },
     "execution_count": 23,
     "metadata": {},
     "output_type": "execute_result"
    }
   ],
   "source": [
    "data.tail()"
   ]
  },
  {
   "cell_type": "markdown",
   "metadata": {},
   "source": [
    "wordList_anxiety = ['anxiety', 'depression', 'Anxiety:', 'hate', 'anxiety:', 'attack',\n",
    "'mental', 'Anxiety', 'unfollow', 'think', 'crippling', 'health',\n",
    "'stable', 'fall', 'Remedy', 'shut', 'stressed', 'attacks', 'PTSD',\n",
    "'war', 'sleep', 'outside', 'polish', 'shit', 'ruined', 'irrational',\n",
    "'panic', 'opportunities', 'night', 'friends', 'wish', 'help', 'alone',\n",
    "'last', 'fear', 'stress', 'hell', 'trust', 'worst', 'ANXIETY', 'feeling',\n",
    "'start', 'sadness', 'watching', 'scared', 'thought', 'thinking',\n",
    "'suicidal', 'heart', 'Social', 'severe', 'breakdowns', 'mind', 'reason',\n",
    "'fantasies', 'yearning', 'uncontrollable', 'sad', 'anxious', 'phone',\n",
    "'friend', 'crying', 'worse', 'die', 'honestly', 'pretty', 'disorder',\n",
    "'anxiety?', 'suffered', 'depressed', 'suffer', 'tired', 'calm', 'care',\n",
    "'control', 'crazy', 'weird', 'problems', 'separation', 'brain', 'closer',\n",
    "'pulled', 'issues', 'struggle', 'Depression', 'tough', 'mad', 'end',\n",
    "'finals', 'sick', 'sucks', 'nervous', 'waiting', 'god', 'grades', 'eat', 'self',\n",
    "'pain', 'horrible', 'far', 'leaving', 'remember', 'hit', 'HATE', 'worry', 'poor',\n",
    "'Overboard', 'deep', 'body', 'helped', 'walking', 'breath', 'sorry', 'killing',\n",
    "'public', 'tweet', 'class', 'hurt', 'gone', 'learn', 'relationships',\n",
    "'medication', 'wake', 'anxiety', 'terrible', 'stuck', 'sleepy', 'future', 'problem',\n",
    "'empty', 'kill', 'awake', 'experiencing', 'failing', 'inspired', 'miss',\n",
    "'shaking', 'therapy', 'diagnosed', 'tweets', 'stupid', 'breakdown', 'ruining',\n",
    "'ill', 'helpless', 'anxiety!', 'wrong', 'Sorry']"
   ]
  },
  {
   "cell_type": "markdown",
   "metadata": {},
   "source": [
    "\n",
    "wordList_depression = ['depression', 'anxiety', 'me', 'stress', 'yelled', 'eating', 'food', 'binge', 'junk', 'life','hibernation', 'happy', 'fighting', 'mood', 'Depression', 'ok',\n",
    "'ruin', 'isnt', 'seasonal', 'grades', 'love', 'back', 'mental', 'help', 'empty', 'sad', 'failing', 'need', 'feeling', 'hate', 'bad', 'cured', 'thoughts', 'regular',\n",
    "'nap', 'something', 'cure', 'crippling', 'friends', 'deal', 'literally', 'mind', 'health', 'suicidal', 'helped', 'things', 'suffering', 'alone', 'bright', 'Me', 'hates',\n",
    "'weed', 'kills', 'helps', 'depressed', 'saved', 'tears', 'illness', 'heart', 'thinking', 'pain', 'suffer', 'worse', 'break', 'joke', 'major', 'problems','messy',\n",
    "'PTSD', \"doesn't\", 'DICK', 'die', 'Dont', 'fat', 'kill', 'cope', 'gets', 'anything', 'skin', 'battle', 'through', 'high', 'ppl', 'cry', 'young', 'serious', 'positivity',\n",
    "'love\"', 'faithful', 'ashamed', 'dark', 'exams', 'naps', 'times', 'smile', 'clinical', 'season', 'cuddle', 'strength', 'room', 'lot', 'music', 'justifiable', 'honestly',\n",
    "'friend', 'hell','problem', 'weak', 'shameful', 'destroy', 'feelings', 'fear', 'choice', 'winter', 'face', 'social', 'journey', 'breakdowns', 'fight', 'either',\n",
    "'motivation', 'work', 'question', 'Quest', 'win', 'severe', 'cause', 'understand', 'future', 'wild', 'stay', 'deep', 'disorder', 'realize', 'time','praying', 'changed',\n",
    "'SIN!','swear', 'message', 'suicide','trust', 'Great', 'late', 'healthy','push', 'sleep', 'growth', 'barely', 'outta', 'working', 'shut', 'handle', 'wake', 'youth',\n",
    "'person', 'support', 'crying', 'living', 'illnesses', 'teachers', 'depressionbrain', 'brain', 'depression?', 'spread', 'weird', 'act', 'fact', 'gain', 'save', 'Ill',\n",
    "'addiction', 'leave', 'together', 'shared', 'hide', 'vacation', 'FightAgainstIt', 'ill', 'SadMoms', 'fightingdepression','crippled', 'Iamdepression', 'listening',\n",
    "'DEPRESSION', 'control', 'energy', 'irrational', 'letting', 'weather', 'knocked', 'openly', 'strong', 'life!', 'focus', 'favorite', 'struggle','works', 'though',\n",
    "'hear', 'college', 'huge', 'heard', 'tripped', 'eyes', 'cures','little', 'send', 'death', 'end', 'deserve', 'probably', 'used', 'therapist', 'depressive', 'lie',\n",
    "'sadness', 'deeper', 'tired', 'admit', 'acting']\n"
   ]
  },
  {
   "cell_type": "markdown",
   "metadata": {},
   "source": [
    "wordList_OCD = ['anxiety', 'mentalhealth', 'depression', 'ocd',\n",
    "'mentalillness', 'love', 'make', 'bipolar', 'clean', 'even',\n",
    "'feel', 'house', 'mental', 'makes', 'ptsd', 'good', 'health',\n",
    "'cleaning', 'work', 'problems', 'made', 'disorder', 'many', 'little', 'thing',\n",
    "'hate', 'book', 'recovery',\n",
    "'look', 'find', 'everything', 'making', 'keep', 'awareness',\n",
    "'happy', 'better', 'well', 'stop', 'home', 'check',\n",
    "'adhd', 'times', 'BPD', 'crazy', 'room', 'autism', 'bad', 'great', 'hands', 'hard', 'wrong',\n",
    "'support', 'Mentalhealth', 'treatment', 'therapy', 'Schizophrenia', 'illness',\n",
    "'MentalHealthAwareness', 'change', 'Bipolar', 'intrusive', 'Depression',\n",
    "'symptoms', 'awarenessweek', 'getting', 'morning', 'living', 'ever', 'experience', 'live', 'drive',\n",
    "'bpd', 'start', 'hope', 'bed', 'best', 'end', 'already', 'share', 'year', 'set', 'treat', 'another',\n",
    "'control', 'psychology', 'article', 'wish', 'took', 'anxious', 'face', 'driving', 'issues', 'feeling',\n",
    "'Therapy', 'mess', 'perfect', 'mindfulness', 'wash', 'endthestigma', 'leave', 'place',\n",
    "'enough', 'CBT', 'suffer', 'stigma', 'helped', 'perfectionist', 'bothers', 'looks', 'least',\n",
    "'stress', 'obsessive', 'weird', 'Autism', 'satisfying', 'fix', 'obsession', 'BiPolar',\n",
    "'cleaned', 'problem', 'Obsessive', 'suffering', 'dirty', 'tidy', 'important', 'washing',\n",
    "'neat', 'addiction', 'pretty', 'clear', 'amazing', 'Compulsive', 'bathroom', 'severe',\n",
    "'closet', 'obsessions', 'socks']"
   ]
  },
  {
   "cell_type": "code",
   "execution_count": null,
   "metadata": {},
   "outputs": [],
   "source": []
  }
 ],
 "metadata": {
  "kernelspec": {
   "display_name": "Python 3",
   "language": "python",
   "name": "python3"
  },
  "language_info": {
   "codemirror_mode": {
    "name": "ipython",
    "version": 3
   },
   "file_extension": ".py",
   "mimetype": "text/x-python",
   "name": "python",
   "nbconvert_exporter": "python",
   "pygments_lexer": "ipython3",
   "version": "3.7.1"
  }
 },
 "nbformat": 4,
 "nbformat_minor": 2
}
